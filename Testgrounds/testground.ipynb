{
 "cells": [
  {
   "cell_type": "code",
   "execution_count": 5,
   "metadata": {},
   "outputs": [],
   "source": [
    "from tensorflow import keras\n",
    "from keras.models import load_model\n",
    "from joblib import load\n",
    "import numpy as np\n",
    "\n",
    "model = load_model('model.h5')\n",
    "\n",
    "# Load the scaler from the file\n",
    "scaler = load('scaler.joblib')"
   ]
  },
  {
   "cell_type": "code",
   "execution_count": 6,
   "metadata": {},
   "outputs": [
    {
     "name": "stdout",
     "output_type": "stream",
     "text": [
      "[[1.18900000e-01 8.29100000e+02 1.13504070e+01 1.94800000e+01\n",
      "  7.37000000e+02 5.63995833e+03 2.88540000e+04 5.21000000e+01\n",
      "  0.00000000e+00 0.00000000e+00 0.00000000e+00 0.00000000e+00\n",
      "  0.00000000e+00 1.00000000e+00 0.00000000e+00 0.00000000e+00\n",
      "  0.00000000e+00 0.00000000e+00 1.71623802e+02 1.50329340e+06]]\n",
      "[[-0.13931753  2.46309947  0.68038878  0.99850529  0.68882488  0.4322297\n",
      "   0.35373245  0.18270369 -0.71698894 -0.29973008 -0.23700318 -0.56714226\n",
      "  -0.38955828  1.19185595 -0.19272081 -0.2651173  -0.21864717 -0.26285458\n",
      "   0.87294107  0.21938115]]\n",
      "1/1 [==============================] - 0s 47ms/step\n",
      "Prediction:  [[0.01051296]]\n"
     ]
    },
    {
     "data": {
      "text/plain": [
       "0.010512958"
      ]
     },
     "execution_count": 6,
     "metadata": {},
     "output_type": "execute_result"
    }
   ],
   "source": [
    "# Assuming you have a trained StandardScaler named 'scaler'\n",
    "input_data = [0.1189, 829.10, 11.350407, 19.48, 737, 5639.958333, 28854, 52.1, 0, 0, 0, 0, 0, 1, 0, 0, 0, 0, 171.6238016839396, 1503293.4000000001]  # Values for each feature in the same order\n",
    "\n",
    "# Reshape the input data to match the expected input shape of the model\n",
    "input_data = np.array(input_data).reshape(1, 20)\n",
    "print(input_data)\n",
    "\n",
    "# Apply the same scaler used during training\n",
    "input_data_scaled = scaler.transform(input_data)\n",
    "print(input_data_scaled)\n",
    "\n",
    "# Make predictions using the model\n",
    "predictions = model.predict(input_data_scaled)\n",
    "print('Prediction: ', predictions)\n",
    "predictions[0][0]"
   ]
  }
 ],
 "metadata": {
  "kernelspec": {
   "display_name": "Python 3",
   "language": "python",
   "name": "python3"
  },
  "language_info": {
   "codemirror_mode": {
    "name": "ipython",
    "version": 3
   },
   "file_extension": ".py",
   "mimetype": "text/x-python",
   "name": "python",
   "nbconvert_exporter": "python",
   "pygments_lexer": "ipython3",
   "version": "3.10.7"
  },
  "orig_nbformat": 4
 },
 "nbformat": 4,
 "nbformat_minor": 2
}
